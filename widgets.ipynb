{
 "cells": [
  {
   "cell_type": "code",
   "execution_count": 2,
   "metadata": {},
   "outputs": [],
   "source": [
    "import ipywidgets as wid                                                                                                                                                                                                                                                                                                                                                                                                                                                                                                                            "
   ]
  },
  {
   "cell_type": "code",
   "execution_count": 3,
   "metadata": {},
   "outputs": [],
   "source": [
    "saludo = wid.Button(description=\"aceptar\")"
   ]
  },
  {
   "cell_type": "code",
   "execution_count": 7,
   "metadata": {},
   "outputs": [
    {
     "ename": "AttributeError",
     "evalue": "'Button' object has no attribute 'on_Click'",
     "output_type": "error",
     "traceback": [
      "\u001b[0;31m---------------------------------------------------------------------------\u001b[0m",
      "\u001b[0;31mAttributeError\u001b[0m                            Traceback (most recent call last)",
      "Cell \u001b[0;32mIn[7], line 6\u001b[0m\n\u001b[1;32m      4\u001b[0m saludo \u001b[39m=\u001b[39m wid\u001b[39m.\u001b[39mButton(description\u001b[39m=\u001b[39m\u001b[39m\"\u001b[39m\u001b[39maceptar\u001b[39m\u001b[39m\"\u001b[39m)\n\u001b[1;32m      5\u001b[0m output \u001b[39m=\u001b[39m wid\u001b[39m.\u001b[39mText()\n\u001b[0;32m----> 6\u001b[0m saludo\u001b[39m.\u001b[39mon_Click(saludar)\n",
      "\u001b[0;31mAttributeError\u001b[0m: 'Button' object has no attribute 'on_Click'"
     ]
    }
   ],
   "source": [
    "def saludar(p):\n",
    "    output.value = \"Hola\"\n",
    "\n",
    "saludo = wid.Button(description=\"aceptar\")\n",
    "output = wid.Text()\n",
    "saludo.on_Click(saludar)"
   ]
  }
 ],
 "metadata": {
  "kernelspec": {
   "display_name": "Python 3.11.4 ('base')",
   "language": "python",
   "name": "python3"
  },
  "language_info": {
   "codemirror_mode": {
    "name": "ipython",
    "version": 3
   },
   "file_extension": ".py",
   "mimetype": "text/x-python",
   "name": "python",
   "nbconvert_exporter": "python",
   "pygments_lexer": "ipython3",
   "version": "3.11.4"
  },
  "orig_nbformat": 4,
  "vscode": {
   "interpreter": {
    "hash": "ff9bfa98e4f8c3f9d4de9c46fcde9d8627b807e49706f21951ba1591a8cd4ae6"
   }
  }
 },
 "nbformat": 4,
 "nbformat_minor": 2
}
