{
 "cells": [
  {
   "cell_type": "code",
   "execution_count": 1,
   "metadata": {},
   "outputs": [
    {
     "name": "stdout",
     "output_type": "stream",
     "text": [
      "pygame 2.6.1 (SDL 2.28.4, Python 3.11.4)\n",
      "Hello from the pygame community. https://www.pygame.org/contribute.html\n"
     ]
    }
   ],
   "source": [
    "import pygame\n"
   ]
  },
  {
   "cell_type": "code",
   "execution_count": 2,
   "metadata": {},
   "outputs": [],
   "source": [
    "import pygame_widgets"
   ]
  },
  {
   "cell_type": "code",
   "execution_count": null,
   "metadata": {},
   "outputs": [],
   "source": []
  },
  {
   "cell_type": "code",
   "execution_count": 1,
   "metadata": {},
   "outputs": [
    {
     "ename": "SyntaxError",
     "evalue": "invalid syntax. Perhaps you forgot a comma? (1772528268.py, line 9)",
     "output_type": "error",
     "traceback": [
      "\u001b[0;36m  Cell \u001b[0;32mIn[1], line 9\u001b[0;36m\u001b[0m\n\u001b[0;31m    text='ordenar'\u001b[0m\n\u001b[0m         ^\u001b[0m\n\u001b[0;31mSyntaxError\u001b[0m\u001b[0;31m:\u001b[0m invalid syntax. Perhaps you forgot a comma?\n"
     ]
    }
   ],
   "source": [
    "from pygame_widgets.button import Button \n",
    "# Set up Pygame\n",
    "pygame.init()\n",
    "win = pygame.display.set_mode((600, 600))\n",
    "# Creates the button with optional parameters \n",
    "button = Button(\n",
    "    win, 100, 100, 300, 150,\n",
    "    # Optional Parameters \n",
    "    text='Agregar',     onClick=lambda: agregarNumero() # Function to call when clicked on \n",
    ")\n",
    "button2 = Button(\n",
    "    win, 100, 260, 300, 150,\n",
    "    # Optional Parameters \n",
    "    text='ordenar',     onClick=lambda: ordenar() # Function to call when clicked on \n",
    ")\n",
    "tNumero = TextBox(win, 100, 10, 300, 70, fontSize=40)\n",
    "tResultado= TextBox(win, 100, 320, 300, 70, fontSize=40)\n",
    "tResultado.disable()\n",
    "run = True \n",
    "while run:\n",
    "    events = pygame.event.get()\n",
    "    for event in events:\n",
    "        if event.type == pygame.QUIT:\n",
    "            pygame.quit()\n",
    "            run = False\n",
    "            break \n",
    "\n",
    "if run==False:\n",
    "    break \n",
    "win.fill((255, 255, 255))\n",
    "\n",
    "pygame_widgets.update(events) # Call once every loop to allow widgets to render and listen\n",
    "pygame.display.update()\n",
    "\n"
   ]
  },
  {
   "cell_type": "code",
   "execution_count": null,
   "metadata": {},
   "outputs": [],
   "source": [
    "#funciones reutilizables \n",
    "def swap(i):\n",
    "    global n\n",
    "    a= n[i]\n",
    "    n[i] = n[i+1]\n",
    "    n[i+1] = a "
   ]
  },
  {
   "cell_type": "code",
   "execution_count": null,
   "metadata": {},
   "outputs": [],
   "source": [
    "def agregarNumero()"
   ]
  }
 ],
 "metadata": {
  "kernelspec": {
   "display_name": "Python 3.11.4 ('base')",
   "language": "python",
   "name": "python3"
  },
  "language_info": {
   "codemirror_mode": {
    "name": "ipython",
    "version": 3
   },
   "file_extension": ".py",
   "mimetype": "text/x-python",
   "name": "python",
   "nbconvert_exporter": "python",
   "pygments_lexer": "ipython3",
   "version": "3.11.4"
  },
  "orig_nbformat": 4,
  "vscode": {
   "interpreter": {
    "hash": "ff9bfa98e4f8c3f9d4de9c46fcde9d8627b807e49706f21951ba1591a8cd4ae6"
   }
  }
 },
 "nbformat": 4,
 "nbformat_minor": 2
}
